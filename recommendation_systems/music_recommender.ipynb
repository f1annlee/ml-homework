{
 "cells": [
  {
   "cell_type": "code",
   "execution_count": 28,
   "metadata": {},
   "outputs": [],
   "source": [
    "import pandas as pd\n",
    "import numpy as np\n",
    "import warnings\n",
    "import time\n",
    "warnings.filterwarnings('ignore')\n",
    "import seaborn as sns\n",
    "%matplotlib inline"
   ]
  },
  {
   "cell_type": "code",
   "execution_count": 29,
   "metadata": {},
   "outputs": [],
   "source": [
    "t_original=time.time()"
   ]
  },
  {
   "cell_type": "code",
   "execution_count": 30,
   "metadata": {},
   "outputs": [],
   "source": [
    "df_train=pd.read_csv('train.csv')\n",
    "df_songs=pd.read_csv('songs.csv')\n",
    "df_test=pd.read_csv('test.csv')"
   ]
  },
  {
   "cell_type": "code",
   "execution_count": null,
   "metadata": {},
   "outputs": [],
   "source": [
    "song_source=df_train.drop_duplicates(['song_id','source_system_tab']).groupby('song_id')['target'].agg(len)"
   ]
  },
  {
   "cell_type": "code",
   "execution_count": 110,
   "metadata": {},
   "outputs": [
    {
     "data": {
      "image/png": "[encoded data removed]",
      "text/plain": [
       "<Figure size 1080x288 with 1 Axes>"
      ]
     },
     "metadata": {},
     "output_type": "display_data"
    }
   ],
   "source": [
    "sns.set(rc={'figure.figsize':(15,4)})\n",
    "ax = sns.boxplot(x=\"source_type\", y=\"target\", data=df_train)"
   ]
  },
  {
   "cell_type": "code",
   "execution_count": 111,
   "metadata": {},
   "outputs": [
    {
     "name": "stdout",
     "output_type": "stream",
     "text": [
      "# of songs 359966\n",
      "# of users 30755\n"
     ]
    }
   ],
   "source": [
    "print('# of songs',len(df_train['song_id'].unique().tolist()))\n",
    "print('# of users',len(df_train['msno'].unique().tolist()))"
   ]
  },
  {
   "cell_type": "code",
   "execution_count": 112,
   "metadata": {},
   "outputs": [
    {
     "data": {
      "text/plain": [
       "0"
      ]
     },
     "execution_count": 112,
     "metadata": {},
     "output_type": "execute_result"
    }
   ],
   "source": [
    "# number of songs, listend, rate is null\n",
    "len(df_train[df_train['target'].isnull()])"
   ]
  },
  {
   "cell_type": "code",
   "execution_count": 113,
   "metadata": {},
   "outputs": [
    {
     "name": "stdout",
     "output_type": "stream",
     "text": [
      "# of new songs 59873\n",
      "# of songs 224753\n",
      "# of new users 3648\n",
      "# of users 25131\n"
     ]
    }
   ],
   "source": [
    "df_test['user_exist']=0\n",
    "df_test.loc[df_test['msno'].isin(df_train['msno']),'user_exist']=1\n",
    "df_test['song_exist']=0\n",
    "df_test.loc[df_test['song_id'].isin(df_train['song_id']),'song_exist']=1\n",
    "\n",
    "print('# of new songs',len(df_test[~df_test['song_id'].isin(df_train['song_id'])]['song_id'].unique().tolist()))\n",
    "print('# of songs',len(df_test['song_id'].unique().tolist()))\n",
    "print('# of new users',len(df_test[~df_test['msno'].isin(df_train['msno'])]['msno'].unique().tolist()))\n",
    "print('# of users',len(df_test['msno'].unique().tolist()))"
   ]
  },
  {
   "cell_type": "code",
   "execution_count": 114,
   "metadata": {},
   "outputs": [
    {
     "name": "stdout",
     "output_type": "stream",
     "text": [
      "2296320\n",
      "224739\n",
      "59867\n"
     ]
    }
   ],
   "source": [
    "# all songs\n",
    "print(len(df_songs))\n",
    "# songs in the test set\n",
    "df_songs_selected=df_songs[df_songs['song_id'].isin(df_test['song_id'].tolist())]\n",
    "print(len(df_songs_selected))\n",
    "# songs in the test set, not listened\n",
    "df_songs_selected_notlistened=df_songs_selected[~df_songs_selected['song_id'].isin(df_train['song_id'].tolist())]\n",
    "print(len(df_songs_selected_notlistened))"
   ]
  },
  {
   "cell_type": "markdown",
   "metadata": {},
   "source": [
    "# 1 content based recommender"
   ]
  },
  {
   "cell_type": "code",
   "execution_count": 115,
   "metadata": {},
   "outputs": [],
   "source": [
    "import time\n",
    "def preprocess(df_songs):\n",
    "    t=time.time()\n",
    "    print('preprocess df_songs')\n",
    "    def split_genre(x):\n",
    "        x=str(x).split('|')\n",
    "        return x*2\n",
    "    df_songs['genre_ids_new']=df_songs['genre_ids'].apply(split_genre)\n",
    "\n",
    "    def split_artist(x):\n",
    "        try:\n",
    "            x=x.split('|')\n",
    "            x=[i.replace(' ','') for i in x]\n",
    "            return x\n",
    "        except:\n",
    "            return []\n",
    "    df_songs['artist_name_new']=df_songs['artist_name'].apply(split_artist)\n",
    "    df_songs['composer_new']=df_songs['composer'].apply(split_artist)\n",
    "    df_songs['lyricist_new']=df_songs['lyricist'].apply(split_artist)\n",
    "\n",
    "    def cal_language(x):\n",
    "        try:\n",
    "            return ['lan_'+str(int(x))]\n",
    "        except:\n",
    "            return []\n",
    "    df_songs['language_new']=df_songs['language'].apply(cal_language)\n",
    "\n",
    "    def add_vas(row,cols):\n",
    "        out=[]\n",
    "        for col in cols:\n",
    "            out+=row[col]\n",
    "        return ' '.join(out)\n",
    "    cols=['language_new','artist_name_new','composer_new','lyricist_new','genre_ids_new']\n",
    "    df_songs['vars']=df_songs.apply(lambda x: add_vas(x,cols),axis=1)\n",
    "    \n",
    "    print('add new column')\n",
    "    max_,min_=df_songs['song_length'].max(),df_songs['song_length'].min()\n",
    "    df_songs['song_length_new']=df_songs['song_length'].apply(lambda x: (x-min_)/(max_-min_))\n",
    "    new_column=np.reshape(df_songs['song_length_new'].values,(-1,1))\n",
    "    \n",
    "    from sklearn.feature_extraction.text import CountVectorizer\n",
    "    ct = CountVectorizer(analyzer='word',min_df=0)\n",
    "    tfidf_matrix = ct.fit_transform(df_songs['vars'])\n",
    "    \n",
    "    import scipy as sp\n",
    "    tfidf_matrix_new = sp.sparse.hstack((tfidf_matrix, new_column))\n",
    "    \n",
    "    print('time used',time.time()-t)\n",
    "    return tfidf_matrix_new.tocsr()"
   ]
  },
  {
   "cell_type": "code",
   "execution_count": 116,
   "metadata": {},
   "outputs": [],
   "source": [
    "def find_similar_songs(tfidf_matrix,df_songs_new,df_songs_old):\n",
    "    from sklearn.metrics.pairwise import cosine_similarity # create distance metric\n",
    "    song_id_old=list(df_songs_old.index)\n",
    "    song_id_new=list(df_songs_new.index)\n",
    "    song_dict={}\n",
    "    \n",
    "    chunk_size=1000\n",
    "    for i in range(len(song_id_new)//chunk_size+1):\n",
    "        song_id_new_chunks=song_id_new[i*chunk_size:(i+1)*chunk_size]\n",
    "        scores=cosine_similarity(tfidf_matrix[song_id_new_chunks],tfidf_matrix[song_id_old])\n",
    "        for i_score in range(len(scores)):\n",
    "            song_dict[df_songs_new.iloc[i*chunk_size+i_score]['song_id']]=df_songs_old.iloc[np.argmax(scores[i_score])]['song_id']\n",
    "        print('processing chunk',i)\n",
    "    return song_dict"
   ]
  },
  {
   "cell_type": "code",
   "execution_count": 117,
   "metadata": {},
   "outputs": [
    {
     "name": "stdout",
     "output_type": "stream",
     "text": [
      "preprocess df_songs\n",
      "add new column\n",
      "time used 315.2683250904083\n"
     ]
    }
   ],
   "source": [
    "tfidf_matrix=preprocess(df_songs)"
   ]
  },
  {
   "cell_type": "code",
   "execution_count": 118,
   "metadata": {},
   "outputs": [],
   "source": [
    "import scipy as sp\n",
    "sp.sparse.save_npz(\"tfidf_matrix.npz\", tfidf_matrix)"
   ]
  },
  {
   "cell_type": "code",
   "execution_count": 8,
   "metadata": {},
   "outputs": [],
   "source": [
    "import scipy as sp\n",
    "tfidf_matrix= sp.sparse.load_npz(\"tfidf_matrix.npz\")"
   ]
  },
  {
   "cell_type": "code",
   "execution_count": 119,
   "metadata": {},
   "outputs": [
    {
     "name": "stdout",
     "output_type": "stream",
     "text": [
      "step 1: find most similar song for new song\n"
     ]
    }
   ],
   "source": [
    "print('step 1: find most similar song for new song')\n",
    "df_songs_old=df_songs[(df_songs['song_id'].isin(df_test['song_id'].tolist()))& (df_songs['song_id'].isin(df_train['song_id'].tolist()))]\n",
    "df_songs_new=df_songs[df_songs['song_id'].isin(df_test['song_id'].tolist())& (~df_songs['song_id'].isin(df_train['song_id'].tolist()))]\n",
    "del df_songs"
   ]
  },
  {
   "cell_type": "code",
   "execution_count": 120,
   "metadata": {},
   "outputs": [
    {
     "name": "stdout",
     "output_type": "stream",
     "text": [
      "processing chunk 0\n",
      "processing chunk 1\n",
      "processing chunk 2\n",
      "processing chunk 3\n",
      "processing chunk 4\n",
      "processing chunk 5\n",
      "processing chunk 6\n",
      "processing chunk 7\n",
      "processing chunk 8\n",
      "processing chunk 9\n",
      "processing chunk 10\n",
      "processing chunk 11\n",
      "processing chunk 12\n",
      "processing chunk 13\n",
      "processing chunk 14\n",
      "processing chunk 15\n",
      "processing chunk 16\n",
      "processing chunk 17\n",
      "processing chunk 18\n",
      "processing chunk 19\n",
      "processing chunk 20\n",
      "processing chunk 21\n",
      "processing chunk 22\n",
      "processing chunk 23\n",
      "processing chunk 24\n",
      "processing chunk 25\n",
      "processing chunk 26\n",
      "processing chunk 27\n",
      "processing chunk 28\n",
      "processing chunk 29\n",
      "processing chunk 30\n",
      "processing chunk 31\n",
      "processing chunk 32\n",
      "processing chunk 33\n",
      "processing chunk 34\n",
      "processing chunk 35\n",
      "processing chunk 36\n",
      "processing chunk 37\n",
      "processing chunk 38\n",
      "processing chunk 39\n",
      "processing chunk 40\n",
      "processing chunk 41\n",
      "processing chunk 42\n",
      "processing chunk 43\n",
      "processing chunk 44\n",
      "processing chunk 45\n",
      "processing chunk 46\n",
      "processing chunk 47\n",
      "processing chunk 48\n",
      "processing chunk 49\n",
      "processing chunk 50\n",
      "processing chunk 51\n",
      "processing chunk 52\n",
      "processing chunk 53\n",
      "processing chunk 54\n",
      "processing chunk 55\n",
      "processing chunk 56\n",
      "processing chunk 57\n",
      "processing chunk 58\n",
      "processing chunk 59\n",
      "time used 180.70985555648804\n"
     ]
    }
   ],
   "source": [
    "import time\n",
    "t=time.time()\n",
    "song_dict=find_similar_songs(tfidf_matrix,df_songs_new,df_songs_old)\n",
    "print('time used',time.time()-t)"
   ]
  },
  {
   "cell_type": "code",
   "execution_count": 121,
   "metadata": {},
   "outputs": [
    {
     "name": "stdout",
     "output_type": "stream",
     "text": [
      "59867\n",
      "59867\n"
     ]
    }
   ],
   "source": [
    "# validation purpose\n",
    "print(len(song_dict.keys()))\n",
    "print(len(df_songs_new))"
   ]
  },
  {
   "cell_type": "code",
   "execution_count": 122,
   "metadata": {},
   "outputs": [],
   "source": [
    "del df_songs_old,df_songs_new,tfidf_matrix"
   ]
  },
  {
   "cell_type": "code",
   "execution_count": 123,
   "metadata": {},
   "outputs": [],
   "source": [
    "df_test['song_id']=df_test['song_id'].apply(lambda x: song_dict.get(x,x))"
   ]
  },
  {
   "cell_type": "code",
   "execution_count": 131,
   "metadata": {},
   "outputs": [
    {
     "name": "stdout",
     "output_type": "stream",
     "text": [
      "# of songs not in all database, but only in test 9\n"
     ]
    }
   ],
   "source": [
    "# songs not in the song database or user database\n",
    "df_test['song_exist']=1\n",
    "df_test.loc[(~df_test['song_id'].isin(df_songs['song_id'])) & (~df_test['song_id'].isin(df_train['song_id'])),'song_exist']=0\n",
    "print('# of songs not in all database, but only in test',len(df_test[df_test['song_exist']==0]))\n",
    "del df_songs"
   ]
  },
  {
   "cell_type": "markdown",
   "metadata": {},
   "source": [
    "# 2 collaborate filtering svd method"
   ]
  },
  {
   "cell_type": "code",
   "execution_count": 31,
   "metadata": {},
   "outputs": [],
   "source": [
    "#%% collaborative filtering\n",
    "from surprise import Reader, Dataset, SVD, KNNBasic, evaluate,accuracy\n",
    "from surprise.model_selection import cross_validate\n",
    "from collections import defaultdict\n",
    "import time"
   ]
  },
  {
   "cell_type": "code",
   "execution_count": 6,
   "metadata": {},
   "outputs": [
    {
     "name": "stdout",
     "output_type": "stream",
     "text": [
      "484807 % 6.5714996764450655\n"
     ]
    }
   ],
   "source": [
    "# tune parameter via a sub-set of the entire dataset\n",
    "import random\n",
    "sampled_id=random.sample(set(df_train['msno']), 2000)\n",
    "# read in data\n",
    "reader = Reader(rating_scale=(0,1))\n",
    "sampled_df=df_train[df_train['msno'].isin(sampled_id)][['msno', 'song_id', 'target']]\n",
    "print(len(sampled_df),'%',len(sampled_df)/len(df_train)*100)\n",
    "data = Dataset.load_from_df(sampled_df, reader)"
   ]
  },
  {
   "cell_type": "markdown",
   "metadata": {},
   "source": [
    "# step 1: split training (90%) and testing (10%); "
   ]
  },
  {
   "cell_type": "code",
   "execution_count": 18,
   "metadata": {},
   "outputs": [],
   "source": [
    "data = Dataset.load_from_df(sampled_df, reader)\n",
    "raw_ratings = data.raw_ratings\n",
    "\n",
    "# shuffle ratings \n",
    "random.shuffle(raw_ratings)\n",
    "\n",
    "# build training(90%) and testing (10%)\n",
    "# A = 90% of the data, B = 10% of the data\n",
    "threshold = int(.9 * len(raw_ratings))\n",
    "training_ratings = raw_ratings[:threshold]\n",
    "testing_ratings = raw_ratings[threshold:]"
   ]
  },
  {
   "cell_type": "markdown",
   "metadata": {},
   "source": [
    "# step 2: cross validation"
   ]
  },
  {
   "cell_type": "code",
   "execution_count": 21,
   "metadata": {},
   "outputs": [
    {
     "name": "stdout",
     "output_type": "stream",
     "text": [
      "Grid Search...\n",
      "Processing epoch 0\n",
      "Processing epoch 1\n",
      "Processing epoch 2\n",
      "Processing epoch 3\n",
      "Processing epoch 4\n",
      "Processing epoch 0\n",
      "Processing epoch 1\n",
      "Processing epoch 2\n",
      "Processing epoch 3\n",
      "Processing epoch 4\n",
      "Processing epoch 0\n",
      "Processing epoch 1\n",
      "Processing epoch 2\n",
      "Processing epoch 3\n",
      "Processing epoch 4\n",
      "Processing epoch 0\n",
      "Processing epoch 1\n",
      "Processing epoch 2\n",
      "Processing epoch 3\n",
      "Processing epoch 4\n",
      "Processing epoch 5\n",
      "Processing epoch 6\n",
      "Processing epoch 7\n",
      "Processing epoch 8\n",
      "Processing epoch 9\n",
      "Processing epoch 0\n",
      "Processing epoch 1\n",
      "Processing epoch 2\n",
      "Processing epoch 3\n",
      "Processing epoch 4\n",
      "Processing epoch 5\n",
      "Processing epoch 6\n",
      "Processing epoch 7\n",
      "Processing epoch 8\n",
      "Processing epoch 9\n",
      "Processing epoch 0\n",
      "Processing epoch 1\n",
      "Processing epoch 2\n",
      "Processing epoch 3\n",
      "Processing epoch 4\n",
      "Processing epoch 5\n",
      "Processing epoch 6\n",
      "Processing epoch 7\n",
      "Processing epoch 8\n",
      "Processing epoch 9\n",
      "0.46421888681858975\n",
      "{'n_factors': 10, 'n_epochs': 10, 'lr_all': 0.002, 'reg_all': 0.4, 'verbose': True}\n",
      "time used 34.7675576210022\n"
     ]
    }
   ],
   "source": [
    "# training set, cross-validation to tune parameters\n",
    "data.raw_ratings = training_ratings  \n",
    "\n",
    "# grid search to find best score plus cross-validation\n",
    "print('Grid Search...')\n",
    "import time\n",
    "t=time.time()\n",
    "from surprise.model_selection import GridSearchCV\n",
    "param_grid = {'n_factors':[10],'n_epochs': [5, 10], 'lr_all': [0.002], 'reg_all': [0.4],'verbose':[True]}\n",
    "gs = GridSearchCV(SVD, param_grid, measures=['rmse', 'mae'], cv=3)\n",
    "gs.fit(data)\n",
    "\n",
    "# best RMSE score\n",
    "print(gs.best_score['rmse'])\n",
    "# combination of parameters that gave the best RMSE score\n",
    "print(gs.best_params['rmse'])\n",
    "\n",
    "results_df_svd = pd.DataFrame.from_dict(gs.cv_results)\n",
    "#print(results_df_svd)\n",
    "\n",
    "# use the best estimator as the final model\n",
    "model_final_svd = gs.best_estimator['rmse']\n",
    "print('time used',time.time()-t)"
   ]
  },
  {
   "cell_type": "code",
   "execution_count": 26,
   "metadata": {},
   "outputs": [
    {
     "name": "stdout",
     "output_type": "stream",
     "text": [
      "Processing epoch 0\n",
      "Processing epoch 1\n",
      "Processing epoch 2\n",
      "Processing epoch 3\n",
      "Processing epoch 4\n",
      "Processing epoch 5\n",
      "Processing epoch 6\n",
      "Processing epoch 7\n",
      "Processing epoch 8\n",
      "Processing epoch 9\n",
      "Biased accuracy on training set,   RMSE: 0.4560\n",
      "Unbiased accuracy on testing set, RMSE: 0.4623\n"
     ]
    },
    {
     "data": {
      "text/plain": [
       "0.46232162164106316"
      ]
     },
     "execution_count": 26,
     "metadata": {},
     "output_type": "execute_result"
    }
   ],
   "source": [
    "# retrain on the training set \n",
    "trainset = data.build_full_trainset()\n",
    "model_final_svd.fit(trainset)\n",
    "\n",
    "# Compute biased accuracy on training\n",
    "predictions = model_final_svd.test(trainset.build_testset())\n",
    "print('Biased accuracy on training set,', end='   ')\n",
    "accuracy.rmse(predictions)\n",
    "\n",
    "# Compute unbiased accuracy on testing\n",
    "testset = data.construct_testset(testing_ratings)  # testset is now the set B\n",
    "predictions = model_final_svd.test(testset)\n",
    "print('Unbiased accuracy on testing set,', end=' ')\n",
    "accuracy.rmse(predictions)"
   ]
  },
  {
   "cell_type": "code",
   "execution_count": 134,
   "metadata": {},
   "outputs": [
    {
     "name": "stdout",
     "output_type": "stream",
     "text": [
      "Processing epoch 0\n",
      "Processing epoch 1\n",
      "Processing epoch 2\n",
      "Processing epoch 3\n",
      "Processing epoch 4\n",
      "Processing epoch 0\n",
      "Processing epoch 1\n",
      "Processing epoch 2\n",
      "Processing epoch 3\n",
      "Processing epoch 4\n",
      "Processing epoch 0\n",
      "Processing epoch 1\n",
      "Processing epoch 2\n",
      "Processing epoch 3\n",
      "Processing epoch 4\n",
      "Processing epoch 0\n",
      "Processing epoch 1\n",
      "Processing epoch 2\n",
      "Processing epoch 3\n",
      "Processing epoch 4\n",
      "Processing epoch 0\n",
      "Processing epoch 1\n",
      "Processing epoch 2\n",
      "Processing epoch 3\n",
      "Processing epoch 4\n",
      "Processing epoch 0\n",
      "Processing epoch 1\n",
      "Processing epoch 2\n",
      "Processing epoch 3\n",
      "Processing epoch 4\n",
      "Processing epoch 0\n",
      "Processing epoch 1\n",
      "Processing epoch 2\n",
      "Processing epoch 3\n",
      "Processing epoch 4\n",
      "Processing epoch 0\n",
      "Processing epoch 1\n",
      "Processing epoch 2\n",
      "Processing epoch 3\n",
      "Processing epoch 4\n",
      "Processing epoch 0\n",
      "Processing epoch 1\n",
      "Processing epoch 2\n",
      "Processing epoch 3\n",
      "Processing epoch 4\n",
      "Processing epoch 0\n",
      "Processing epoch 1\n",
      "Processing epoch 2\n",
      "Processing epoch 3\n",
      "Processing epoch 4\n",
      "Processing epoch 0\n",
      "Processing epoch 1\n",
      "Processing epoch 2\n",
      "Processing epoch 3\n",
      "Processing epoch 4\n",
      "Processing epoch 0\n",
      "Processing epoch 1\n",
      "Processing epoch 2\n",
      "Processing epoch 3\n",
      "Processing epoch 4\n",
      "Processing epoch 0\n",
      "Processing epoch 1\n",
      "Processing epoch 2\n",
      "Processing epoch 3\n",
      "Processing epoch 4\n",
      "Processing epoch 5\n",
      "Processing epoch 6\n",
      "Processing epoch 7\n",
      "Processing epoch 8\n",
      "Processing epoch 9\n",
      "Processing epoch 0\n",
      "Processing epoch 1\n",
      "Processing epoch 2\n",
      "Processing epoch 3\n",
      "Processing epoch 4\n",
      "Processing epoch 5\n",
      "Processing epoch 6\n",
      "Processing epoch 7\n",
      "Processing epoch 8\n",
      "Processing epoch 9\n",
      "Processing epoch 0\n",
      "Processing epoch 1\n",
      "Processing epoch 2\n",
      "Processing epoch 3\n",
      "Processing epoch 4\n",
      "Processing epoch 5\n",
      "Processing epoch 6\n",
      "Processing epoch 7\n",
      "Processing epoch 8\n",
      "Processing epoch 9\n",
      "Processing epoch 0\n",
      "Processing epoch 1\n",
      "Processing epoch 2\n",
      "Processing epoch 3\n",
      "Processing epoch 4\n",
      "Processing epoch 5\n",
      "Processing epoch 6\n",
      "Processing epoch 7\n",
      "Processing epoch 8\n",
      "Processing epoch 9\n",
      "Processing epoch 0\n",
      "Processing epoch 1\n",
      "Processing epoch 2\n",
      "Processing epoch 3\n",
      "Processing epoch 4\n",
      "Processing epoch 5\n",
      "Processing epoch 6\n",
      "Processing epoch 7\n",
      "Processing epoch 8\n",
      "Processing epoch 9\n",
      "Processing epoch 0\n",
      "Processing epoch 1\n",
      "Processing epoch 2\n",
      "Processing epoch 3\n",
      "Processing epoch 4\n",
      "Processing epoch 5\n",
      "Processing epoch 6\n",
      "Processing epoch 7\n",
      "Processing epoch 8\n",
      "Processing epoch 9\n",
      "Processing epoch 0\n",
      "Processing epoch 1\n",
      "Processing epoch 2\n",
      "Processing epoch 3\n",
      "Processing epoch 4\n",
      "Processing epoch 5\n",
      "Processing epoch 6\n",
      "Processing epoch 7\n",
      "Processing epoch 8\n",
      "Processing epoch 9\n",
      "Processing epoch 0\n",
      "Processing epoch 1\n",
      "Processing epoch 2\n",
      "Processing epoch 3\n",
      "Processing epoch 4\n",
      "Processing epoch 5\n",
      "Processing epoch 6\n",
      "Processing epoch 7\n",
      "Processing epoch 8\n",
      "Processing epoch 9\n",
      "Processing epoch 0\n",
      "Processing epoch 1\n",
      "Processing epoch 2\n",
      "Processing epoch 3\n",
      "Processing epoch 4\n",
      "Processing epoch 5\n",
      "Processing epoch 6\n",
      "Processing epoch 7\n",
      "Processing epoch 8\n",
      "Processing epoch 9\n",
      "Processing epoch 0\n",
      "Processing epoch 1\n",
      "Processing epoch 2\n",
      "Processing epoch 3\n",
      "Processing epoch 4\n",
      "Processing epoch 5\n",
      "Processing epoch 6\n",
      "Processing epoch 7\n",
      "Processing epoch 8\n",
      "Processing epoch 9\n",
      "Processing epoch 0\n",
      "Processing epoch 1\n",
      "Processing epoch 2\n",
      "Processing epoch 3\n",
      "Processing epoch 4\n",
      "Processing epoch 5\n",
      "Processing epoch 6\n",
      "Processing epoch 7\n",
      "Processing epoch 8\n",
      "Processing epoch 9\n",
      "Processing epoch 0\n",
      "Processing epoch 1\n",
      "Processing epoch 2\n",
      "Processing epoch 3\n",
      "Processing epoch 4\n",
      "Processing epoch 5\n",
      "Processing epoch 6\n",
      "Processing epoch 7\n",
      "Processing epoch 8\n",
      "Processing epoch 9\n",
      "Processing epoch 0\n",
      "Processing epoch 1\n",
      "Processing epoch 2\n",
      "Processing epoch 3\n",
      "Processing epoch 4\n",
      "Processing epoch 0\n",
      "Processing epoch 1\n",
      "Processing epoch 2\n",
      "Processing epoch 3\n",
      "Processing epoch 4\n",
      "Processing epoch 0\n",
      "Processing epoch 1\n",
      "Processing epoch 2\n",
      "Processing epoch 3\n",
      "Processing epoch 4\n",
      "Processing epoch 0\n",
      "Processing epoch 1\n",
      "Processing epoch 2\n",
      "Processing epoch 3\n",
      "Processing epoch 4\n",
      "Processing epoch 0\n",
      "Processing epoch 1\n",
      "Processing epoch 2\n",
      "Processing epoch 3\n",
      "Processing epoch 4\n",
      "Processing epoch 0\n",
      "Processing epoch 1\n",
      "Processing epoch 2\n",
      "Processing epoch 3\n",
      "Processing epoch 4\n",
      "Processing epoch 0\n",
      "Processing epoch 1\n",
      "Processing epoch 2\n",
      "Processing epoch 3\n",
      "Processing epoch 4\n",
      "Processing epoch 0\n",
      "Processing epoch 1\n",
      "Processing epoch 2\n",
      "Processing epoch 3\n",
      "Processing epoch 4\n",
      "Processing epoch 0\n",
      "Processing epoch 1\n",
      "Processing epoch 2\n",
      "Processing epoch 3\n",
      "Processing epoch 4\n",
      "Processing epoch 0\n",
      "Processing epoch 1\n",
      "Processing epoch 2\n",
      "Processing epoch 3\n",
      "Processing epoch 4\n",
      "Processing epoch 0\n",
      "Processing epoch 1\n",
      "Processing epoch 2\n",
      "Processing epoch 3\n",
      "Processing epoch 4\n",
      "Processing epoch 0\n",
      "Processing epoch 1\n",
      "Processing epoch 2\n",
      "Processing epoch 3\n",
      "Processing epoch 4\n",
      "Processing epoch 0\n",
      "Processing epoch 1\n",
      "Processing epoch 2\n",
      "Processing epoch 3\n",
      "Processing epoch 4\n",
      "Processing epoch 5\n",
      "Processing epoch 6\n",
      "Processing epoch 7\n",
      "Processing epoch 8\n",
      "Processing epoch 9\n",
      "Processing epoch 0\n",
      "Processing epoch 1\n",
      "Processing epoch 2\n",
      "Processing epoch 3\n",
      "Processing epoch 4\n",
      "Processing epoch 5\n",
      "Processing epoch 6\n",
      "Processing epoch 7\n",
      "Processing epoch 8\n",
      "Processing epoch 9\n",
      "Processing epoch 0\n",
      "Processing epoch 1\n",
      "Processing epoch 2\n",
      "Processing epoch 3\n",
      "Processing epoch 4\n",
      "Processing epoch 5\n",
      "Processing epoch 6\n",
      "Processing epoch 7\n",
      "Processing epoch 8\n",
      "Processing epoch 9\n",
      "Processing epoch 0\n",
      "Processing epoch 1\n",
      "Processing epoch 2\n",
      "Processing epoch 3\n",
      "Processing epoch 4\n",
      "Processing epoch 5\n",
      "Processing epoch 6\n",
      "Processing epoch 7\n",
      "Processing epoch 8\n",
      "Processing epoch 9\n",
      "Processing epoch 0\n",
      "Processing epoch 1\n",
      "Processing epoch 2\n",
      "Processing epoch 3\n",
      "Processing epoch 4\n",
      "Processing epoch 5\n",
      "Processing epoch 6\n",
      "Processing epoch 7\n",
      "Processing epoch 8\n",
      "Processing epoch 9\n",
      "Processing epoch 0\n",
      "Processing epoch 1\n",
      "Processing epoch 2\n",
      "Processing epoch 3\n",
      "Processing epoch 4\n",
      "Processing epoch 5\n",
      "Processing epoch 6\n",
      "Processing epoch 7\n",
      "Processing epoch 8\n",
      "Processing epoch 9\n",
      "Processing epoch 0\n",
      "Processing epoch 1\n",
      "Processing epoch 2\n",
      "Processing epoch 3\n",
      "Processing epoch 4\n",
      "Processing epoch 5\n",
      "Processing epoch 6\n",
      "Processing epoch 7\n",
      "Processing epoch 8\n",
      "Processing epoch 9\n",
      "Processing epoch 0\n",
      "Processing epoch 1\n",
      "Processing epoch 2\n",
      "Processing epoch 3\n",
      "Processing epoch 4\n",
      "Processing epoch 5\n",
      "Processing epoch 6\n",
      "Processing epoch 7\n",
      "Processing epoch 8\n",
      "Processing epoch 9\n",
      "Processing epoch 0\n",
      "Processing epoch 1\n",
      "Processing epoch 2\n",
      "Processing epoch 3\n",
      "Processing epoch 4\n",
      "Processing epoch 5\n",
      "Processing epoch 6\n",
      "Processing epoch 7\n",
      "Processing epoch 8\n",
      "Processing epoch 9\n",
      "Processing epoch 0\n",
      "Processing epoch 1\n",
      "Processing epoch 2\n",
      "Processing epoch 3\n",
      "Processing epoch 4\n",
      "Processing epoch 5\n",
      "Processing epoch 6\n",
      "Processing epoch 7\n",
      "Processing epoch 8\n",
      "Processing epoch 9\n",
      "Processing epoch 0\n",
      "Processing epoch 1\n",
      "Processing epoch 2\n",
      "Processing epoch 3\n",
      "Processing epoch 4\n",
      "Processing epoch 5\n",
      "Processing epoch 6\n",
      "Processing epoch 7\n",
      "Processing epoch 8\n",
      "Processing epoch 9\n",
      "Processing epoch 0\n",
      "Processing epoch 1\n",
      "Processing epoch 2\n",
      "Processing epoch 3\n",
      "Processing epoch 4\n",
      "Processing epoch 5\n",
      "Processing epoch 6\n",
      "Processing epoch 7\n",
      "Processing epoch 8\n",
      "Processing epoch 9\n",
      "Processing epoch 0\n",
      "Processing epoch 1\n",
      "Processing epoch 2\n",
      "Processing epoch 3\n",
      "Processing epoch 4\n",
      "Processing epoch 0\n",
      "Processing epoch 1\n",
      "Processing epoch 2\n",
      "Processing epoch 3\n",
      "Processing epoch 4\n",
      "Processing epoch 0\n",
      "Processing epoch 1\n",
      "Processing epoch 2\n",
      "Processing epoch 3\n",
      "Processing epoch 4\n",
      "Processing epoch 0\n",
      "Processing epoch 1\n",
      "Processing epoch 2\n",
      "Processing epoch 3\n",
      "Processing epoch 4\n",
      "Processing epoch 0\n",
      "Processing epoch 1\n",
      "Processing epoch 2\n",
      "Processing epoch 3\n",
      "Processing epoch 4\n",
      "Processing epoch 0\n",
      "Processing epoch 1\n",
      "Processing epoch 2\n",
      "Processing epoch 3\n",
      "Processing epoch 4\n",
      "Processing epoch 0\n",
      "Processing epoch 1\n",
      "Processing epoch 2\n",
      "Processing epoch 3\n",
      "Processing epoch 4\n",
      "Processing epoch 0\n",
      "Processing epoch 1\n",
      "Processing epoch 2\n",
      "Processing epoch 3\n",
      "Processing epoch 4\n",
      "Processing epoch 0\n",
      "Processing epoch 1\n",
      "Processing epoch 2\n",
      "Processing epoch 3\n",
      "Processing epoch 4\n",
      "Processing epoch 0\n",
      "Processing epoch 1\n",
      "Processing epoch 2\n",
      "Processing epoch 3\n",
      "Processing epoch 4\n",
      "Processing epoch 0\n",
      "Processing epoch 1\n",
      "Processing epoch 2\n",
      "Processing epoch 3\n",
      "Processing epoch 4\n",
      "Processing epoch 0\n",
      "Processing epoch 1\n",
      "Processing epoch 2\n",
      "Processing epoch 3\n",
      "Processing epoch 4\n",
      "Processing epoch 0\n",
      "Processing epoch 1\n",
      "Processing epoch 2\n",
      "Processing epoch 3\n",
      "Processing epoch 4\n",
      "Processing epoch 5\n",
      "Processing epoch 6\n",
      "Processing epoch 7\n",
      "Processing epoch 8\n",
      "Processing epoch 9\n",
      "Processing epoch 0\n",
      "Processing epoch 1\n"
     ]
    },
    {
     "name": "stdout",
     "output_type": "stream",
     "text": [
      "Processing epoch 2\n",
      "Processing epoch 3\n",
      "Processing epoch 4\n",
      "Processing epoch 5\n",
      "Processing epoch 6\n",
      "Processing epoch 7\n",
      "Processing epoch 8\n",
      "Processing epoch 9\n",
      "Processing epoch 0\n",
      "Processing epoch 1\n",
      "Processing epoch 2\n",
      "Processing epoch 3\n",
      "Processing epoch 4\n",
      "Processing epoch 5\n",
      "Processing epoch 6\n",
      "Processing epoch 7\n",
      "Processing epoch 8\n",
      "Processing epoch 9\n",
      "Processing epoch 0\n",
      "Processing epoch 1\n",
      "Processing epoch 2\n",
      "Processing epoch 3\n",
      "Processing epoch 4\n",
      "Processing epoch 5\n",
      "Processing epoch 6\n",
      "Processing epoch 7\n",
      "Processing epoch 8\n",
      "Processing epoch 9\n",
      "Processing epoch 0\n",
      "Processing epoch 1\n",
      "Processing epoch 2\n",
      "Processing epoch 3\n",
      "Processing epoch 4\n",
      "Processing epoch 5\n",
      "Processing epoch 6\n",
      "Processing epoch 7\n",
      "Processing epoch 8\n",
      "Processing epoch 9\n",
      "Processing epoch 0\n",
      "Processing epoch 1\n",
      "Processing epoch 2\n",
      "Processing epoch 3\n",
      "Processing epoch 4\n",
      "Processing epoch 5\n",
      "Processing epoch 6\n",
      "Processing epoch 7\n",
      "Processing epoch 8\n",
      "Processing epoch 9\n",
      "Processing epoch 0\n",
      "Processing epoch 1\n",
      "Processing epoch 2\n",
      "Processing epoch 3\n",
      "Processing epoch 4\n",
      "Processing epoch 5\n",
      "Processing epoch 6\n",
      "Processing epoch 7\n",
      "Processing epoch 8\n",
      "Processing epoch 9\n",
      "Processing epoch 0\n",
      "Processing epoch 1\n",
      "Processing epoch 2\n",
      "Processing epoch 3\n",
      "Processing epoch 4\n",
      "Processing epoch 5\n",
      "Processing epoch 6\n",
      "Processing epoch 7\n",
      "Processing epoch 8\n",
      "Processing epoch 9\n",
      "Processing epoch 0\n",
      "Processing epoch 1\n",
      "Processing epoch 2\n",
      "Processing epoch 3\n",
      "Processing epoch 4\n",
      "Processing epoch 5\n",
      "Processing epoch 6\n",
      "Processing epoch 7\n",
      "Processing epoch 8\n",
      "Processing epoch 9\n",
      "Processing epoch 0\n",
      "Processing epoch 1\n",
      "Processing epoch 2\n",
      "Processing epoch 3\n",
      "Processing epoch 4\n",
      "Processing epoch 5\n",
      "Processing epoch 6\n",
      "Processing epoch 7\n",
      "Processing epoch 8\n",
      "Processing epoch 9\n",
      "Processing epoch 0\n",
      "Processing epoch 1\n",
      "Processing epoch 2\n",
      "Processing epoch 3\n",
      "Processing epoch 4\n",
      "Processing epoch 5\n",
      "Processing epoch 6\n",
      "Processing epoch 7\n",
      "Processing epoch 8\n",
      "Processing epoch 9\n",
      "Processing epoch 0\n",
      "Processing epoch 1\n",
      "Processing epoch 2\n",
      "Processing epoch 3\n",
      "Processing epoch 4\n",
      "Processing epoch 5\n",
      "Processing epoch 6\n",
      "Processing epoch 7\n",
      "Processing epoch 8\n",
      "Processing epoch 9\n",
      "0.4655724176614829\n",
      "{'n_factors': 10, 'n_epochs': 10, 'lr_all': 0.005, 'reg_all': 0.4, 'verbose': True}\n",
      "    split0_test_rmse  split1_test_rmse  split2_test_rmse  mean_test_rmse  \\\n",
      "0           0.467922          0.467884          0.468065        0.467957   \n",
      "1           0.469821          0.469759          0.469859        0.469813   \n",
      "2           0.466126          0.466020          0.466213        0.466120   \n",
      "3           0.468411          0.468311          0.468450        0.468391   \n",
      "4           0.465916          0.465895          0.466028        0.465946   \n",
      "5           0.468063          0.468046          0.468139        0.468083   \n",
      "6           0.465591          0.465461          0.465665        0.465572   \n",
      "7           0.467955          0.467805          0.467970        0.467910   \n",
      "8           0.468001          0.467980          0.468094        0.468025   \n",
      "9           0.469860          0.469758          0.469907        0.469842   \n",
      "10          0.466134          0.466052          0.466250        0.466145   \n",
      "11          0.468427          0.468312          0.468448        0.468396   \n",
      "12          0.465938          0.465932          0.466023        0.465964   \n",
      "13          0.468093          0.468047          0.468173        0.468104   \n",
      "14          0.465616          0.465464          0.465678        0.465586   \n",
      "15          0.467958          0.467818          0.467967        0.467914   \n",
      "16          0.468329          0.468297          0.468346        0.468324   \n",
      "17          0.470085          0.469977          0.470048        0.470037   \n",
      "18          0.466257          0.466116          0.466302        0.466225   \n",
      "19          0.468480          0.468378          0.468503        0.468454   \n",
      "20          0.466016          0.466045          0.466187        0.466083   \n",
      "21          0.468128          0.468124          0.468201        0.468151   \n",
      "22          0.465621          0.465484          0.465695        0.465600   \n",
      "23          0.467998          0.467831          0.467987        0.467939   \n",
      "\n",
      "    std_test_rmse  rank_test_rmse  split0_test_mae  split1_test_mae  \\\n",
      "0        0.000078              13         0.453187         0.453246   \n",
      "1        0.000041              22         0.458269         0.458259   \n",
      "2        0.000079               7         0.449089         0.448995   \n",
      "3        0.000058              19         0.455239         0.455145   \n",
      "4        0.000058               4         0.449027         0.449092   \n",
      "5        0.000040              15         0.454972         0.455022   \n",
      "6        0.000084               1         0.446852         0.446759   \n",
      "7        0.000074              10         0.453503         0.453376   \n",
      "8        0.000050              14         0.453202         0.453264   \n",
      "9        0.000062              23         0.458264         0.458207   \n",
      "10       0.000082               8         0.449088         0.449016   \n",
      "11       0.000060              20         0.455251         0.455141   \n",
      "12       0.000041               5         0.449041         0.449099   \n",
      "13       0.000052              16         0.454995         0.455013   \n",
      "14       0.000090               2         0.446884         0.446769   \n",
      "15       0.000068              11         0.453510         0.453392   \n",
      "16       0.000020              18         0.453285         0.453317   \n",
      "17       0.000045              24         0.458355         0.458309   \n",
      "18       0.000079               9         0.449158         0.449042   \n",
      "19       0.000055              21         0.455279         0.455185   \n",
      "20       0.000075               6         0.449058         0.449182   \n",
      "21       0.000035              17         0.454991         0.455053   \n",
      "22       0.000088               3         0.446891         0.446793   \n",
      "23       0.000077              12         0.453558         0.453411   \n",
      "\n",
      "    split2_test_mae  mean_test_mae      ...        mean_fit_time  \\\n",
      "0          0.453248       0.453227      ...             2.434503   \n",
      "1          0.458205       0.458244      ...             2.207301   \n",
      "2          0.448884       0.448989      ...             2.261679   \n",
      "3          0.455026       0.455137      ...             2.226679   \n",
      "4          0.449000       0.449040      ...             4.403370   \n",
      "5          0.454912       0.454969      ...             4.432659   \n",
      "6          0.446614       0.446741      ...             4.450962   \n",
      "7          0.453252       0.453377      ...             4.359754   \n",
      "8          0.453198       0.453221      ...             2.675079   \n",
      "9          0.458202       0.458224      ...             2.670679   \n",
      "10         0.448913       0.449006      ...             2.712348   \n",
      "11         0.455017       0.455136      ...             2.621890   \n",
      "12         0.448966       0.449036      ...             5.184034   \n",
      "13         0.454946       0.454985      ...             5.172897   \n",
      "14         0.446627       0.446760      ...             5.182340   \n",
      "15         0.453247       0.453383      ...             5.165718   \n",
      "16         0.453177       0.453260      ...             4.057152   \n",
      "17         0.458223       0.458296      ...             4.047532   \n",
      "18         0.448915       0.449038      ...             4.044142   \n",
      "19         0.455066       0.455177      ...             4.118925   \n",
      "20         0.449055       0.449098      ...             7.936688   \n",
      "21         0.454932       0.454992      ...             7.985635   \n",
      "22         0.446653       0.446779      ...             7.935600   \n",
      "23         0.453275       0.453415      ...             7.977234   \n",
      "\n",
      "    std_fit_time  mean_test_time  std_test_time  \\\n",
      "0       0.079838        1.881826       0.029183   \n",
      "1       0.009446        1.831858       0.007869   \n",
      "2       0.046965        1.851511       0.019333   \n",
      "3       0.008009        1.851179       0.012276   \n",
      "4       0.029205        3.314930       1.040941   \n",
      "5       0.094445        2.538748       1.003234   \n",
      "6       0.055202        3.309603       1.002429   \n",
      "7       0.053738        2.495454       0.968850   \n",
      "8       0.021146        3.197685       0.972152   \n",
      "9       0.005902        3.190692       0.965882   \n",
      "10      0.010029        2.632715       0.950008   \n",
      "11      0.008979        3.351849       1.119227   \n",
      "12      0.012184        2.458084       0.976509   \n",
      "13      0.007201        2.483469       0.990025   \n",
      "14      0.026031        3.175309       0.967496   \n",
      "15      0.006393        3.141020       0.954401   \n",
      "16      0.022112        2.460414       0.954958   \n",
      "17      0.013521        3.158003       0.956322   \n",
      "18      0.005113        2.467807       0.965260   \n",
      "19      0.139616        3.219257       0.974912   \n",
      "20      0.026201        2.484310       0.924634   \n",
      "21      0.117025        3.130197       0.953714   \n",
      "22      0.002861        2.454284       0.958994   \n",
      "23      0.042930        3.143753       0.963492   \n",
      "\n",
      "                                               params  param_n_factors  \\\n",
      "0   {'n_factors': 10, 'n_epochs': 5, 'lr_all': 0.0...               10   \n",
      "1   {'n_factors': 10, 'n_epochs': 5, 'lr_all': 0.0...               10   \n",
      "2   {'n_factors': 10, 'n_epochs': 5, 'lr_all': 0.0...               10   \n",
      "3   {'n_factors': 10, 'n_epochs': 5, 'lr_all': 0.0...               10   \n",
      "4   {'n_factors': 10, 'n_epochs': 10, 'lr_all': 0....               10   \n",
      "5   {'n_factors': 10, 'n_epochs': 10, 'lr_all': 0....               10   \n",
      "6   {'n_factors': 10, 'n_epochs': 10, 'lr_all': 0....               10   \n",
      "7   {'n_factors': 10, 'n_epochs': 10, 'lr_all': 0....               10   \n",
      "8   {'n_factors': 20, 'n_epochs': 5, 'lr_all': 0.0...               20   \n",
      "9   {'n_factors': 20, 'n_epochs': 5, 'lr_all': 0.0...               20   \n",
      "10  {'n_factors': 20, 'n_epochs': 5, 'lr_all': 0.0...               20   \n",
      "11  {'n_factors': 20, 'n_epochs': 5, 'lr_all': 0.0...               20   \n",
      "12  {'n_factors': 20, 'n_epochs': 10, 'lr_all': 0....               20   \n",
      "13  {'n_factors': 20, 'n_epochs': 10, 'lr_all': 0....               20   \n",
      "14  {'n_factors': 20, 'n_epochs': 10, 'lr_all': 0....               20   \n",
      "15  {'n_factors': 20, 'n_epochs': 10, 'lr_all': 0....               20   \n",
      "16  {'n_factors': 50, 'n_epochs': 5, 'lr_all': 0.0...               50   \n",
      "17  {'n_factors': 50, 'n_epochs': 5, 'lr_all': 0.0...               50   \n",
      "18  {'n_factors': 50, 'n_epochs': 5, 'lr_all': 0.0...               50   \n",
      "19  {'n_factors': 50, 'n_epochs': 5, 'lr_all': 0.0...               50   \n",
      "20  {'n_factors': 50, 'n_epochs': 10, 'lr_all': 0....               50   \n",
      "21  {'n_factors': 50, 'n_epochs': 10, 'lr_all': 0....               50   \n",
      "22  {'n_factors': 50, 'n_epochs': 10, 'lr_all': 0....               50   \n",
      "23  {'n_factors': 50, 'n_epochs': 10, 'lr_all': 0....               50   \n",
      "\n",
      "   param_n_epochs  param_lr_all  param_reg_all  param_verbose  \n",
      "0               5         0.002            0.4           True  \n",
      "1               5         0.002            0.6           True  \n",
      "2               5         0.005            0.4           True  \n",
      "3               5         0.005            0.6           True  \n",
      "4              10         0.002            0.4           True  \n",
      "5              10         0.002            0.6           True  \n",
      "6              10         0.005            0.4           True  \n",
      "7              10         0.005            0.6           True  \n",
      "8               5         0.002            0.4           True  \n",
      "9               5         0.002            0.6           True  \n",
      "10              5         0.005            0.4           True  \n",
      "11              5         0.005            0.6           True  \n",
      "12             10         0.002            0.4           True  \n",
      "13             10         0.002            0.6           True  \n",
      "14             10         0.005            0.4           True  \n",
      "15             10         0.005            0.6           True  \n",
      "16              5         0.002            0.4           True  \n",
      "17              5         0.002            0.6           True  \n",
      "18              5         0.005            0.4           True  \n",
      "19              5         0.005            0.6           True  \n",
      "20             10         0.002            0.4           True  \n",
      "21             10         0.002            0.6           True  \n",
      "22             10         0.005            0.4           True  \n",
      "23             10         0.005            0.6           True  \n",
      "\n",
      "[24 rows x 22 columns]\n",
      "time used 538.6894626617432\n"
     ]
    }
   ],
   "source": [
    "# grid search to find best score plus cross-validation\n",
    "import time\n",
    "t=time.time()\n",
    "from surprise.model_selection import GridSearchCV\n",
    "param_grid = {'n_factors':[10,20,50],'n_epochs': [5, 10], 'lr_all': [0.002, 0.005], 'reg_all': [0.4, 0.6],'verbose':[True]}\n",
    "gs = GridSearchCV(SVD, param_grid, measures=['rmse', 'mae'], cv=3)\n",
    "gs.fit(data)\n",
    "\n",
    "# best RMSE score\n",
    "print(gs.best_score['rmse'])\n",
    "# combination of parameters that gave the best RMSE score\n",
    "print(gs.best_params['rmse'])\n",
    "\n",
    "results_df_svd = pd.DataFrame.from_dict(gs.cv_results)\n",
    "print(results_df_svd)\n",
    "\n",
    "# use the best estimator as the final model\n",
    "model_final_svd = gs.best_estimator['rmse']\n",
    "print('time used',time.time()-t)"
   ]
  },
  {
   "cell_type": "code",
   "execution_count": 32,
   "metadata": {},
   "outputs": [],
   "source": [
    "# if already tuned parameters\n",
    "model_final_svd=SVD(n_factors=10,n_epochs=10,lr_all=0.005,reg_all=0.4,verbose=True)"
   ]
  },
  {
   "cell_type": "code",
   "execution_count": 33,
   "metadata": {},
   "outputs": [
    {
     "name": "stdout",
     "output_type": "stream",
     "text": [
      "Processing epoch 0\n",
      "Processing epoch 1\n",
      "Processing epoch 2\n",
      "Processing epoch 3\n",
      "Processing epoch 4\n",
      "Processing epoch 5\n",
      "Processing epoch 6\n",
      "Processing epoch 7\n",
      "Processing epoch 8\n",
      "Processing epoch 9\n"
     ]
    }
   ],
   "source": [
    "reader = Reader(rating_scale=(0,1))\n",
    "data = Dataset.load_from_df(df_train[['msno', 'song_id', 'target']], reader)\n",
    "# fit using the best parameter\n",
    "trainset=data.build_full_trainset()\n",
    "model = model_final_svd.fit(trainset)"
   ]
  },
  {
   "cell_type": "markdown",
   "metadata": {},
   "source": [
    "# step 3: rate existing users"
   ]
  },
  {
   "cell_type": "code",
   "execution_count": 137,
   "metadata": {},
   "outputs": [
    {
     "name": "stdout",
     "output_type": "stream",
     "text": [
      "step 2: rate existing users\n"
     ]
    }
   ],
   "source": [
    "print('step 2: rate existing users')\n",
    "for ind, row in df_test[df_test['user_exist']==1].iterrows():\n",
    "    score=model.predict(row['msno'],row['song_id']).est\n",
    "    df_test.set_value(ind,'target',score)"
   ]
  },
  {
   "cell_type": "markdown",
   "metadata": {},
   "source": [
    "# recommend top n"
   ]
  },
  {
   "cell_type": "code",
   "execution_count": 34,
   "metadata": {},
   "outputs": [],
   "source": [
    "#Return the top-N recommendation for each user from a set of predictions.\n",
    "def get_top_n(predictions, n=10):\n",
    "    from collections import defaultdict\n",
    "    # First map the predictions to each user.\n",
    "    top_n = defaultdict(list)\n",
    "    for uid, iid, true_r, est, _ in predictions:\n",
    "        top_n[uid].append((iid, est))\n",
    "\n",
    "    # Then sort the predictions for each user and retrieve the k highest ones.\n",
    "    for uid, user_ratings in top_n.items():\n",
    "        user_ratings.sort(key=lambda x: x[1], reverse=True)\n",
    "        top_n[uid] = user_ratings[:n]\n",
    "    return top_n"
   ]
  },
  {
   "cell_type": "code",
   "execution_count": 35,
   "metadata": {},
   "outputs": [],
   "source": [
    "def precision_recall_at_k(predictions, k=10, threshold=3.5):\n",
    "    '''Return precision and recall at k metrics for each user.'''\n",
    "\n",
    "    # First map the predictions to each user.\n",
    "    user_est_true = defaultdict(list)\n",
    "    for uid, _, true_r, est, _ in predictions:\n",
    "        user_est_true[uid].append((est, true_r))\n",
    "\n",
    "    precisions = dict()\n",
    "    recalls = dict()\n",
    "    for uid, user_ratings in user_est_true.items():\n",
    "\n",
    "        # Sort user ratings by estimated value\n",
    "        user_ratings.sort(key=lambda x: x[0], reverse=True)\n",
    "\n",
    "        # Number of relevant items\n",
    "        n_rel = sum((true_r >= threshold) for (_, true_r) in user_ratings)\n",
    "\n",
    "        # Number of recommended items in top k\n",
    "        n_rec_k = sum((est >= threshold) for (est, _) in user_ratings[:k])\n",
    "\n",
    "        # Number of relevant and recommended items in top k\n",
    "        n_rel_and_rec_k = sum(((true_r >= threshold) and (est >= threshold))\n",
    "                              for (est, true_r) in user_ratings[:k])\n",
    "\n",
    "        # Precision@K: Proportion of recommended items that are relevant\n",
    "        precisions[uid] = n_rel_and_rec_k / n_rec_k if n_rec_k != 0 else 1\n",
    "\n",
    "        # Recall@K: Proportion of relevant items that are recommended\n",
    "        recalls[uid] = n_rel_and_rec_k / n_rel if n_rel != 0 else 1\n",
    "\n",
    "    return precisions, recalls"
   ]
  },
  {
   "cell_type": "code",
   "execution_count": null,
   "metadata": {},
   "outputs": [],
   "source": [
    "# this takes a really long time\n",
    "# Than predict ratings for all pairs (u, i) that are NOT in the training set.\n",
    "testset = trainset.build_anti_testset()\n",
    "predictions = algo.test(testset)\n",
    "\n",
    "print('get top n')\n",
    "top_n = get_top_n(predictions[:5], 3)\n",
    "\n",
    "# Print the recommended items for each user\n",
    "for uid, user_ratings in top_n.items():\n",
    "    print(uid, [iid for (iid, _) in user_ratings])\n",
    "\n",
    "print('get precision/recall')\n",
    "# precision & recall per user\n",
    "prec,rec=precision_recall_at_k(predictions, k=3, threshold=0.8)\n",
    "print(prec,rec)"
   ]
  },
  {
   "cell_type": "markdown",
   "metadata": {},
   "source": [
    "# 3 new users -> similarity of users based on demographic data"
   ]
  },
  {
   "cell_type": "code",
   "execution_count": 139,
   "metadata": {},
   "outputs": [],
   "source": [
    "df_members=pd.read_csv('members.csv')"
   ]
  },
  {
   "cell_type": "code",
   "execution_count": 140,
   "metadata": {},
   "outputs": [
    {
     "data": {
      "text/plain": [
       "<matplotlib.axes._subplots.AxesSubplot at 0x26e1d5a7e80>"
      ]
     },
     "execution_count": 140,
     "metadata": {},
     "output_type": "execute_result"
    },
    {
     "data": {
      "image/png": "[encoded data removed]",
      "text/plain": [
       "<Figure size 1080x288 with 1 Axes>"
      ]
     },
     "metadata": {},
     "output_type": "display_data"
    }
   ],
   "source": [
    "sns.distplot(df_members['bd'],bins=50)"
   ]
  },
  {
   "cell_type": "code",
   "execution_count": null,
   "metadata": {},
   "outputs": [],
   "source": [
    "df_members=pd.concat([df_members,pd.get_dummies(df_members['gender'])],axis=1).drop('gender',axis=1)\n",
    "df_members=pd.concat([df_members,pd.get_dummies(df_members['registered_via'])],axis=1).drop('registered_via',axis=1)\n",
    "df_members=pd.concat([df_members,pd.get_dummies(df_members['city'])],axis=1).drop('city',axis=1)\n",
    "\n",
    "def qaqc_bd(x):\n",
    "    if x<=5 or x>150:\n",
    "        x=np.NAN\n",
    "    return x\n",
    "mean_val=df_members['bd'].mean()\n",
    "df_members['bd']=df_members['bd'].apply(qaqc_bd).fillna(mean_val)"
   ]
  },
  {
   "cell_type": "code",
   "execution_count": 143,
   "metadata": {},
   "outputs": [
    {
     "name": "stdout",
     "output_type": "stream",
     "text": [
      "3    9898\n",
      "0    8835\n",
      "4    8475\n",
      "2    3257\n",
      "1     290\n",
      "Name: group, dtype: int64\n"
     ]
    }
   ],
   "source": [
    "from sklearn.preprocessing import StandardScaler\n",
    "from sklearn.cluster import KMeans\n",
    "\n",
    "scaler = StandardScaler()\n",
    "data=df_members[[x for x in df_members.columns.values.tolist() if x!='msno']]\n",
    "\n",
    "scaler.fit(data)\n",
    "data=scaler.transform(data)\n",
    " \n",
    "kmeans = KMeans(init='k-means++', n_clusters=5, n_init=10)\n",
    "kmeans.fit(data)\n",
    "\n",
    "df_members['group']=list(kmeans.predict(data))\n",
    "\n",
    "df_members['user_exist']=0\n",
    "df_members.loc[df_members['msno'].isin(df_train['msno']),'user_exist']=1\n",
    "print(df_members[df_members['user_exist']==1]['group'].value_counts())\n",
    "\n",
    "member_dict={}\n",
    "for ind,row in df_members.iterrows():\n",
    "    member_dict[row['msno']]=row['group']"
   ]
  },
  {
   "cell_type": "code",
   "execution_count": 144,
   "metadata": {},
   "outputs": [],
   "source": [
    "# temporarily ouput the file\n",
    "df_member_gp=pd.DataFrame.from_dict(member_dict,orient='index').rename(columns={0:'group'})\n",
    "df_member_gp['msno']=df_member_gp.index\n",
    "df_member_gp.to_csv('member_dict.csv',index=False)"
   ]
  },
  {
   "cell_type": "code",
   "execution_count": 145,
   "metadata": {},
   "outputs": [],
   "source": [
    "# if wanna read the file\n",
    "df_member_gp=pd.read_csv('member_dict.csv')\n",
    "member_dict={}\n",
    "for ind, row in df_member_gp.iterrows():\n",
    "    member_dict[row['msno']]=row['group']"
   ]
  },
  {
   "cell_type": "code",
   "execution_count": 146,
   "metadata": {},
   "outputs": [],
   "source": [
    "del data,df_members"
   ]
  },
  {
   "cell_type": "code",
   "execution_count": 147,
   "metadata": {},
   "outputs": [],
   "source": [
    "df_test['group']=df_test['msno'].apply(lambda x: member_dict.get(x))\n",
    "df_train['group']=df_train['msno'].apply(lambda x: member_dict.get(x))"
   ]
  },
  {
   "cell_type": "code",
   "execution_count": 148,
   "metadata": {},
   "outputs": [
    {
     "name": "stdout",
     "output_type": "stream",
     "text": [
      "step 3.1: # of null values 184018\n",
      "for that song, use median value of the user group\n",
      "step 3.2: # of null values 11697\n",
      "for that song, use median value of the entire user database\n",
      "step 3.3: # of null values 3\n",
      "regardless of song, use the median of the entire user group\n",
      "finally # of null values 0\n"
     ]
    }
   ],
   "source": [
    "print('step 3.1: # of null values',len(df_test[df_test['target'].isnull()]))\n",
    "print('for that song, use median value of the user group')\n",
    "medians_gp=df_train[df_train['song_id'].isin(df_test[df_test['user_exist']==0]['song_id'])]\\\n",
    ".groupby(['song_id','group'],as_index=False)['target'].agg(np.median).rename(columns={'target':'target_median_gp'})\n",
    "df_test=df_test.merge(medians_gp[['target_median_gp','song_id','group']],how='left',on=['song_id','group'])\n",
    "df_test.loc[df_test['user_exist']==0,'target']=df_test.loc[df_test['user_exist']==0,'target_median_gp']\n",
    "df_test.drop('target_median_gp',axis=1,inplace=True)\n",
    "\n",
    "print('step 3.2: # of null values',len(df_test[df_test['target'].isnull()]))\n",
    "print('for that song, use median value of the entire user database')\n",
    "if len(df_test[df_test['target'].isnull()])>0:\n",
    "    medians=df_train[df_train['song_id'].isin(df_test[df_test['target'].isnull()]['song_id'])]\\\n",
    "    .groupby('song_id',as_index=False)['target'].agg(np.median).rename(columns={'target':'target_median'})\n",
    "    df_test=df_test.merge(medians[['target_median','song_id']],how='left',on='song_id')\n",
    "    df_test.loc[df_test['target'].isnull(),'target']=df_test.loc[df_test['target'].isnull(),'target_median']\n",
    "    df_test.drop('target_median',inplace=True,axis=1)\n",
    "\n",
    "print('step 3.3: # of null values',len(df_test[df_test['target'].isnull()]))\n",
    "print('regardless of song, use the median of the entire user group')\n",
    "if len(df_test[df_test['target'].isnull()])>0:\n",
    "    medians=df_train[df_train['group'].isin(df_test[df_test['target'].isnull()]['group'])]\\\n",
    "    .groupby('group',as_index=False)['target'].agg(np.median).rename(columns={'target':'target_median'})\n",
    "    medians_dict={}\n",
    "    for ind, row in medians.iterrows():\n",
    "        medians_dict[row['group']]=row['target_median']\n",
    "    df_test.loc[df_test['target'].isnull(),'target']=df_test.loc[df_test['target'].isnull(),'group']\\\n",
    "                                                                         .apply(lambda x: medians_dict.get(x))\n",
    "    del medians_dict\n",
    "print('finally # of null values',len(df_test[df_test['target'].isnull()]))"
   ]
  },
  {
   "cell_type": "code",
   "execution_count": 149,
   "metadata": {
    "scrolled": true
   },
   "outputs": [
    {
     "name": "stdout",
     "output_type": "stream",
     "text": [
      "total time used 1049.6866645812988\n"
     ]
    }
   ],
   "source": [
    "df_test[['target','id']].to_csv('results.csv',index=False)\n",
    "print('total time used',t-t_original)"
   ]
  },
  {
   "cell_type": "markdown",
   "metadata": {},
   "source": [
    "# others"
   ]
  },
  {
   "cell_type": "code",
   "execution_count": null,
   "metadata": {},
   "outputs": [],
   "source": [
    "# read in data\n",
    "reader = Reader(rating_scale=(0,1))\n",
    "data = Dataset.load_from_df(df_train[['msno', 'song_id', 'target']], reader)"
   ]
  },
  {
   "cell_type": "code",
   "execution_count": null,
   "metadata": {},
   "outputs": [],
   "source": [
    "from surprise import Reader, Dataset, SVD, KNNBasic, evaluate,accuracy\n",
    "import time\n",
    "data.split(n_folds=3)\n",
    "t=time.time()\n",
    "model_svd=SVD()\n",
    "evaluate(model_svd, data, measures=['RMSE', 'MAE'])\n",
    "print('time used',time.time()-t)"
   ]
  },
  {
   "cell_type": "raw",
   "metadata": {},
   "source": [
    "# grid search to find best score plus cross-validation\n",
    "from surprise.model_selection import GridSearchCV\n",
    "param_grid = {'n_factors':[10,20,50],'n_epochs': [5, 10], 'lr_all': [0.002, 0.005], 'reg_all': [0.4, 0.6],'verbose':[True]}\n",
    "gs = GridSearchCV(SVD, param_grid, measures=['rmse', 'mae'], cv=3)\n",
    "gs.fit(data)\n",
    "\n",
    "# best RMSE score\n",
    "print(gs.best_score['rmse'])\n",
    "# combination of parameters that gave the best RMSE score\n",
    "print(gs.best_params['rmse'])\n",
    "\n",
    "results_df_svd = pd.DataFrame.from_dict(gs.cv_results)\n",
    "print(results_df_svd)\n",
    "\n",
    "# use the best estimator as the final model\n",
    "model_final_svd = gs.best_estimator['rmse']"
   ]
  },
  {
   "cell_type": "raw",
   "metadata": {},
   "source": [
    "# fit using the best parameter\n",
    "trainset=data.build_full_trainset()\n",
    "model = model_final_svd.fit(trainset)"
   ]
  },
  {
   "cell_type": "raw",
   "metadata": {},
   "source": [
    "from surprise import Reader, Dataset, SVD, KNNBasic, evaluate,accuracy\n",
    "data.split(n_folds=3)\n",
    "t=time.time()\n",
    "model_knn=KNNBasic(sim_options={'name':'pearson_baseline'})\n",
    "evaluate(model_knn, data, measures=['RMSE', 'MAE'])\n",
    "print('time used',time.time()-t)"
   ]
  },
  {
   "cell_type": "code",
   "execution_count": null,
   "metadata": {},
   "outputs": [],
   "source": [
    "def rate_basedon_history(tfidf_matrix,new_song_id,df_songs_selected,df_train_selected):\n",
    "    from sklearn.metrics.pairwise import cosine_similarity # create distance metric\n",
    "    user_song_id=list(df_songs_selected.index)\n",
    "    scores=cosine_similarity(tfidf_matrix[[new_song_id]],tfidf_matrix[user_song_id])\n",
    "    df_songs_selected['score']=list(scores[0])\n",
    "    df_songs_selected=df_songs_selected.merge(df_train_selected,on='song_id')\n",
    "    if len(df_songs_selected)>=5:\n",
    "        results=df_songs_selected.sort_values('score',ascending=0).head(5)\n",
    "        return np.median(results['target'])\n",
    "    else:\n",
    "        return np.median(df_songs_selected['target'])"
   ]
  }
 ],
 "metadata": {
  "kernelspec": {
   "display_name": "Python 3",
   "language": "python",
   "name": "python3"
  },
  "language_info": {
   "codemirror_mode": {
    "name": "ipython",
    "version": 3
   },
   "file_extension": ".py",
   "mimetype": "text/x-python",
   "name": "python",
   "nbconvert_exporter": "python",
   "pygments_lexer": "ipython3",
   "version": "3.6.0"
  }
 },
 "nbformat": 4,
 "nbformat_minor": 2
}
